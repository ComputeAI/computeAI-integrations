{
 "cells": [
  {
   "cell_type": "code",
   "execution_count": 17,
   "id": "d3b4c804-7e66-4d82-ac47-1e3ca6625e73",
   "metadata": {},
   "outputs": [],
   "source": [
    "from pyhive import hive\n",
    "import warnings\n",
    "warnings.filterwarnings('ignore')\n",
    "conn = hive.Connection(host=\"jitsuOrchestrator\", port=10000, auth=\"CUSTOM\", username=\"computeai\", password=\"infinite-scale\")"
   ]
  },
  {
   "cell_type": "code",
   "execution_count": 18,
   "id": "f93b7aa2-74ad-4d23-8bae-916b3ceec04e",
   "metadata": {},
   "outputs": [
    {
     "name": "stdout",
     "output_type": "stream",
     "text": [
      "VM: Total Memory: 15.35 GB\n",
      "VM: Available Memory: 9.62 GB\n",
      "VM: Logical cores: 8\n",
      "VM: Physical cores: 4\n"
     ]
    }
   ],
   "source": [
    "import psutil\n",
    "\n",
    "# Total and available memory in bytes\n",
    "total_memory = psutil.virtual_memory().total\n",
    "available_memory = psutil.virtual_memory().available\n",
    "\n",
    "# Convert to gigabytes (optional)\n",
    "total_memory_gb = total_memory / 1024**3\n",
    "available_memory_gb = available_memory / 1024**3\n",
    "\n",
    "print(f\"VM: Total Memory: {total_memory_gb:.2f} GB\")\n",
    "print(f\"VM: Available Memory: {available_memory_gb:.2f} GB\")\n",
    "\n",
    "# Number of logical and physical cores\n",
    "logical_cores = psutil.cpu_count()\n",
    "physical_cores = psutil.cpu_count(logical=False)\n",
    "\n",
    "print(f\"VM: Logical cores: {logical_cores}\")\n",
    "print(f\"VM: Physical cores: {physical_cores}\")"
   ]
  },
  {
   "cell_type": "code",
   "execution_count": 19,
   "id": "16b71bf2-f3c5-450a-b979-c73a73c4c392",
   "metadata": {},
   "outputs": [],
   "source": [
    "import boto3\n",
    "\n",
    "def get_s3_object_count_and_size(bucket_name, prefix):\n",
    "    s3 = boto3.client('s3')\n",
    "    total_objects = 0\n",
    "    total_size = 0\n",
    "\n",
    "    paginator = s3.get_paginator('list_objects_v2')\n",
    "    page_iterator = paginator.paginate(Bucket=bucket_name, Prefix=prefix)\n",
    "\n",
    "    for page in page_iterator:\n",
    "        if 'Contents' in page:\n",
    "            for obj in page['Contents']:\n",
    "                total_objects += 1\n",
    "                total_size += obj['Size']\n",
    "\n",
    "    return total_objects, total_size"
   ]
  },
  {
   "cell_type": "code",
   "execution_count": 20,
   "id": "3cd1d09b-a02d-4e6b-b9a3-8ce11a8de4ff",
   "metadata": {},
   "outputs": [
    {
     "name": "stdout",
     "output_type": "stream",
     "text": [
      "|    |   count(1) |\n",
      "|---:|-----------:|\n",
      "|  0 |    1.5e+08 |\n",
      "Number of objects: 187\n",
      "Total size: 11.621752311475575 GBs\n"
     ]
    }
   ],
   "source": [
    "import pandas as pd\n",
    "\n",
    "query = \"\"\"\n",
    "SELECT count(*) from parquet.`s3a://jitsu-test-data-east/tpch/sf1000/parquet/partitioned/customer`\n",
    "\"\"\"\n",
    "df = pd.read_sql(query, conn)\n",
    "print(df.to_markdown())\n",
    "\n",
    "bucket_name = 'jitsu-test-data-east'\n",
    "prefix = 'tpch/sf1000/parquet/partitioned/customer'\n",
    "\n",
    "total_objects, total_size = get_s3_object_count_and_size(bucket_name, prefix)\n",
    "\n",
    "print(\"Number of objects:\", total_objects)\n",
    "print(\"Total size:\", total_size/1024/1024/1024, \"GBs\")  "
   ]
  },
  {
   "cell_type": "code",
   "execution_count": 21,
   "id": "e25a0297-f1ea-462d-8fe3-131f1228b72b",
   "metadata": {},
   "outputs": [
    {
     "name": "stdout",
     "output_type": "stream",
     "text": [
      "|    |   count(1) |\n",
      "|---:|-----------:|\n",
      "|  0 |    1.5e+09 |\n",
      "Number of objects: 1352\n",
      "Total size: 62.80836641136557 GBs\n"
     ]
    }
   ],
   "source": [
    "query = \"\"\"\n",
    "SELECT count(*) from parquet.`s3a://jitsu-test-data-east/tpch/sf1000/parquet/partitioned/orders`\n",
    "\"\"\"\n",
    "df = pd.read_sql(query, conn)\n",
    "print(df.to_markdown())\n",
    "\n",
    "bucket_name = 'jitsu-test-data-east'\n",
    "prefix = 'tpch/sf1000/parquet/partitioned/orders'\n",
    "\n",
    "total_objects, total_size = get_s3_object_count_and_size(bucket_name, prefix)\n",
    "\n",
    "print(\"Number of objects:\", total_objects)\n",
    "print(\"Total size:\", total_size/1024/1024/1024, \"GBs\")  "
   ]
  },
  {
   "cell_type": "code",
   "execution_count": 22,
   "id": "a7fbeb38-72f3-4aa0-b626-67ef552b383c",
   "metadata": {},
   "outputs": [
    {
     "name": "stdout",
     "output_type": "stream",
     "text": [
      "|    |    count(1) |\n",
      "|---:|------------:|\n",
      "|  0 | 5.99999e+09 |\n",
      "Number of objects: 6069\n",
      "Total size: 220.1947597367689 GBs\n"
     ]
    }
   ],
   "source": [
    "query = \"\"\"\n",
    "SELECT count(*) from parquet.`s3a://jitsu-test-data-east/tpch/sf1000/parquet/partitioned/lineitem`\n",
    "\"\"\"\n",
    "df = pd.read_sql(query, conn)\n",
    "print(df.to_markdown())\n",
    "\n",
    "bucket_name = 'jitsu-test-data-east'\n",
    "prefix = 'tpch/sf1000/parquet/partitioned/lineitem'\n",
    "\n",
    "total_objects, total_size = get_s3_object_count_and_size(bucket_name, prefix)\n",
    "\n",
    "print(\"Number of objects:\", total_objects)\n",
    "print(\"Total size:\", total_size/1024/1024/1024, \"GBs\")  "
   ]
  },
  {
   "cell_type": "code",
   "execution_count": 23,
   "id": "ca057de6-0d72-412f-b5a5-759d4f3fcece",
   "metadata": {},
   "outputs": [
    {
     "name": "stdout",
     "output_type": "stream",
     "text": [
      "     o_orderdate  total_quantity  avg_quantity   total_price\n",
      "0     1992-01-01      63584373.0     25.507578  9.535312e+10\n",
      "1     1992-01-17      63661463.0     25.522757  9.545558e+10\n",
      "2     1992-01-28      63544695.0     25.507757  9.528840e+10\n",
      "3     1992-02-02      63626091.0     25.505416  9.543324e+10\n",
      "4     1992-02-09      63484649.0     25.502039  9.517836e+10\n",
      "...          ...             ...           ...           ...\n",
      "2401  1998-04-18      63565013.0     25.492899  9.529262e+10\n",
      "2402  1998-05-21      63651047.0     25.511176  9.544285e+10\n",
      "2403  1998-06-06      63595162.0     25.496983  9.536310e+10\n",
      "2404  1998-07-21      63593365.0     25.482307  9.533489e+10\n",
      "2405  1998-07-26      63559827.0     25.496975  9.531659e+10\n",
      "\n",
      "[2406 rows x 4 columns]\n"
     ]
    }
   ],
   "source": [
    "query = \"\"\"\n",
    "SELECT o.o_orderdate, SUM(l.l_quantity) as total_quantity, AVG(l.l_quantity) as avg_quantity, SUM(l.l_extendedprice) as total_price\n",
    "FROM parquet.`s3a://jitsu-test-data-east/tpch/sf1000/parquet/partitioned/customer` c\n",
    "JOIN parquet.`s3a://jitsu-test-data-east/tpch/sf1000/parquet/partitioned/orders` o ON c.c_custkey = o.o_custkey\n",
    "JOIN parquet.`s3a://jitsu-test-data-east/tpch/sf1000/parquet/partitioned/lineitem` l ON o.o_orderkey = l.l_orderkey\n",
    "GROUP BY o.o_orderdate\n",
    "\"\"\"\n",
    "df = pd.read_sql(query, conn)\n",
    "print(df)"
   ]
  },
  {
   "cell_type": "code",
   "execution_count": 24,
   "id": "99592baa-e8a3-4a96-afbc-2e8d8172f79a",
   "metadata": {},
   "outputs": [
    {
     "data": {
      "text/html": [
       "<style>#sk-container-id-2 {color: black;}#sk-container-id-2 pre{padding: 0;}#sk-container-id-2 div.sk-toggleable {background-color: white;}#sk-container-id-2 label.sk-toggleable__label {cursor: pointer;display: block;width: 100%;margin-bottom: 0;padding: 0.3em;box-sizing: border-box;text-align: center;}#sk-container-id-2 label.sk-toggleable__label-arrow:before {content: \"▸\";float: left;margin-right: 0.25em;color: #696969;}#sk-container-id-2 label.sk-toggleable__label-arrow:hover:before {color: black;}#sk-container-id-2 div.sk-estimator:hover label.sk-toggleable__label-arrow:before {color: black;}#sk-container-id-2 div.sk-toggleable__content {max-height: 0;max-width: 0;overflow: hidden;text-align: left;background-color: #f0f8ff;}#sk-container-id-2 div.sk-toggleable__content pre {margin: 0.2em;color: black;border-radius: 0.25em;background-color: #f0f8ff;}#sk-container-id-2 input.sk-toggleable__control:checked~div.sk-toggleable__content {max-height: 200px;max-width: 100%;overflow: auto;}#sk-container-id-2 input.sk-toggleable__control:checked~label.sk-toggleable__label-arrow:before {content: \"▾\";}#sk-container-id-2 div.sk-estimator input.sk-toggleable__control:checked~label.sk-toggleable__label {background-color: #d4ebff;}#sk-container-id-2 div.sk-label input.sk-toggleable__control:checked~label.sk-toggleable__label {background-color: #d4ebff;}#sk-container-id-2 input.sk-hidden--visually {border: 0;clip: rect(1px 1px 1px 1px);clip: rect(1px, 1px, 1px, 1px);height: 1px;margin: -1px;overflow: hidden;padding: 0;position: absolute;width: 1px;}#sk-container-id-2 div.sk-estimator {font-family: monospace;background-color: #f0f8ff;border: 1px dotted black;border-radius: 0.25em;box-sizing: border-box;margin-bottom: 0.5em;}#sk-container-id-2 div.sk-estimator:hover {background-color: #d4ebff;}#sk-container-id-2 div.sk-parallel-item::after {content: \"\";width: 100%;border-bottom: 1px solid gray;flex-grow: 1;}#sk-container-id-2 div.sk-label:hover label.sk-toggleable__label {background-color: #d4ebff;}#sk-container-id-2 div.sk-serial::before {content: \"\";position: absolute;border-left: 1px solid gray;box-sizing: border-box;top: 0;bottom: 0;left: 50%;z-index: 0;}#sk-container-id-2 div.sk-serial {display: flex;flex-direction: column;align-items: center;background-color: white;padding-right: 0.2em;padding-left: 0.2em;position: relative;}#sk-container-id-2 div.sk-item {position: relative;z-index: 1;}#sk-container-id-2 div.sk-parallel {display: flex;align-items: stretch;justify-content: center;background-color: white;position: relative;}#sk-container-id-2 div.sk-item::before, #sk-container-id-2 div.sk-parallel-item::before {content: \"\";position: absolute;border-left: 1px solid gray;box-sizing: border-box;top: 0;bottom: 0;left: 50%;z-index: -1;}#sk-container-id-2 div.sk-parallel-item {display: flex;flex-direction: column;z-index: 1;position: relative;background-color: white;}#sk-container-id-2 div.sk-parallel-item:first-child::after {align-self: flex-end;width: 50%;}#sk-container-id-2 div.sk-parallel-item:last-child::after {align-self: flex-start;width: 50%;}#sk-container-id-2 div.sk-parallel-item:only-child::after {width: 0;}#sk-container-id-2 div.sk-dashed-wrapped {border: 1px dashed gray;margin: 0 0.4em 0.5em 0.4em;box-sizing: border-box;padding-bottom: 0.4em;background-color: white;}#sk-container-id-2 div.sk-label label {font-family: monospace;font-weight: bold;display: inline-block;line-height: 1.2em;}#sk-container-id-2 div.sk-label-container {text-align: center;}#sk-container-id-2 div.sk-container {/* jupyter's `normalize.less` sets `[hidden] { display: none; }` but bootstrap.min.css set `[hidden] { display: none !important; }` so we also need the `!important` here to be able to override the default hidden behavior on the sphinx rendered scikit-learn.org. See: https://github.com/scikit-learn/scikit-learn/issues/21755 */display: inline-block !important;position: relative;}#sk-container-id-2 div.sk-text-repr-fallback {display: none;}</style><div id=\"sk-container-id-2\" class=\"sk-top-container\"><div class=\"sk-text-repr-fallback\"><pre>LinearRegression()</pre><b>In a Jupyter environment, please rerun this cell to show the HTML representation or trust the notebook. <br />On GitHub, the HTML representation is unable to render, please try loading this page with nbviewer.org.</b></div><div class=\"sk-container\" hidden><div class=\"sk-item\"><div class=\"sk-estimator sk-toggleable\"><input class=\"sk-toggleable__control sk-hidden--visually\" id=\"sk-estimator-id-2\" type=\"checkbox\" checked><label for=\"sk-estimator-id-2\" class=\"sk-toggleable__label sk-toggleable__label-arrow\">LinearRegression</label><div class=\"sk-toggleable__content\"><pre>LinearRegression()</pre></div></div></div></div></div>"
      ],
      "text/plain": [
       "LinearRegression()"
      ]
     },
     "execution_count": 24,
     "metadata": {},
     "output_type": "execute_result"
    }
   ],
   "source": [
    "from sklearn.model_selection import train_test_split\n",
    "from sklearn.linear_model import LinearRegression\n",
    "\n",
    "# Assume we want to predict 'total_price' based on 'total_quantity' and 'avg_quantity'\n",
    "X = df[['total_quantity', 'avg_quantity']]\n",
    "y = df['total_price']\n",
    "\n",
    "# Split the data into training and test sets\n",
    "X_train, X_test, y_train, y_test = train_test_split(X, y, test_size=0.2, random_state=42)\n",
    "\n",
    "# Create a linear regression model\n",
    "model = LinearRegression()\n",
    "\n",
    "# Train the model\n",
    "model.fit(X_train, y_train)"
   ]
  },
  {
   "cell_type": "code",
   "execution_count": 25,
   "id": "380896c7-00bc-429d-8b9f-9331db68c0ca",
   "metadata": {},
   "outputs": [
    {
     "name": "stdout",
     "output_type": "stream",
     "text": [
      "[9.53284322e+10 9.53658446e+10 9.55019204e+10 9.54456758e+10\n",
      " 9.53411438e+10 9.54375312e+10 9.55301532e+10 9.54518914e+10\n",
      " 9.54096866e+10 9.52357687e+10 9.53195677e+10 9.52703917e+10\n",
      " 9.53004828e+10 9.52630206e+10 9.53714716e+10 9.52609533e+10\n",
      " 9.53815526e+10 9.54449703e+10 9.54620496e+10 9.53940676e+10\n",
      " 9.54283011e+10 9.55455428e+10 9.53396985e+10 9.54151743e+10\n",
      " 9.54318620e+10 9.54545085e+10 9.53128036e+10 9.52793414e+10\n",
      " 9.53206686e+10 9.52411933e+10 9.54501986e+10 9.53879027e+10\n",
      " 9.53714431e+10 9.51449414e+10 9.53857128e+10 9.53010158e+10\n",
      " 9.53340077e+10 9.53157441e+10 9.52791522e+10 9.53341861e+10\n",
      " 9.52253136e+10 9.54403976e+10 9.53543527e+10 9.53771469e+10\n",
      " 9.52626316e+10 9.53586355e+10 9.53503019e+10 9.52674078e+10\n",
      " 9.54421238e+10 9.53528963e+10 9.54527041e+10 9.52149897e+10\n",
      " 9.56147689e+10 9.52403737e+10 9.54415486e+10 9.52808459e+10\n",
      " 9.53111783e+10 9.55058309e+10 9.52979760e+10 9.53556581e+10\n",
      " 9.54033179e+10 9.54501015e+10 9.54728974e+10 9.54589737e+10\n",
      " 9.53298047e+10 9.54431495e+10 9.54252199e+10 9.53947713e+10\n",
      " 9.52608029e+10 9.53346606e+10 9.53674111e+10 9.53421873e+10\n",
      " 9.53876772e+10 9.53976128e+10 9.52591890e+10 9.54739282e+10\n",
      " 9.55171619e+10 9.53636479e+10 9.54745107e+10 9.53127284e+10\n",
      " 9.51280489e+10 9.53622918e+10 9.52431560e+10 9.53854616e+10\n",
      " 9.53855128e+10 9.53579797e+10 9.54171928e+10 9.53088046e+10\n",
      " 9.54230096e+10 9.53556334e+10 9.53831736e+10 9.52090816e+10\n",
      " 9.53080399e+10 9.53779010e+10 9.53263793e+10 9.54093124e+10\n",
      " 9.52764050e+10 9.53725465e+10 9.54070748e+10 9.54344617e+10\n",
      " 9.53030662e+10 9.53994711e+10 9.54146777e+10 9.54101215e+10\n",
      " 9.54844220e+10 9.53139177e+10 9.52880449e+10 9.53720570e+10\n",
      " 9.54434061e+10 9.54654209e+10 9.52503037e+10 9.53110323e+10\n",
      " 9.53560564e+10 9.53330258e+10 9.53961241e+10 9.52966452e+10\n",
      " 9.53974840e+10 9.53927064e+10 9.54967753e+10 9.53517934e+10\n",
      " 9.52857384e+10 9.53603570e+10 9.54834598e+10 9.52960039e+10\n",
      " 9.53491780e+10 9.53255594e+10 9.54217416e+10 9.53267500e+10\n",
      " 9.54314537e+10 9.54081132e+10 9.53028121e+10 9.52300274e+10\n",
      " 9.52791872e+10 9.53748159e+10 9.53591049e+10 9.53628894e+10\n",
      " 9.53381885e+10 9.52140161e+10 9.52630675e+10 9.52823083e+10\n",
      " 9.53747592e+10 9.52311308e+10 9.54234819e+10 9.53266738e+10\n",
      " 9.52844428e+10 9.53586874e+10 9.55382569e+10 9.54264831e+10\n",
      " 9.53052764e+10 9.54191403e+10 9.54064998e+10 9.53514080e+10\n",
      " 9.53204287e+10 9.54742313e+10 9.52851698e+10 9.54776331e+10\n",
      " 9.52855137e+10 9.54918560e+10 9.54242698e+10 9.54004849e+10\n",
      " 9.53876629e+10 9.52380950e+10 9.52796163e+10 9.53349095e+10\n",
      " 9.54258689e+10 9.51882416e+10 9.53854845e+10 9.52792198e+10\n",
      " 9.53167574e+10 9.52457291e+10 9.53246662e+10 9.53616327e+10\n",
      " 9.54443547e+10 9.53095846e+10 9.55190234e+10 9.52745515e+10\n",
      " 9.53905291e+10 9.54370547e+10 9.53675923e+10 9.52563162e+10\n",
      " 9.52089812e+10 9.52697493e+10 9.53211582e+10 9.54041191e+10\n",
      " 9.54085013e+10 9.54480468e+10 9.51794691e+10 9.53923005e+10\n",
      " 9.53941841e+10 9.53586666e+10 9.54233336e+10 9.53653531e+10\n",
      " 9.54092172e+10 9.53922659e+10 9.52619705e+10 9.54639914e+10\n",
      " 9.53789600e+10 9.53715815e+10 9.53350501e+10 9.54718635e+10\n",
      " 9.52120842e+10 9.54481250e+10 9.52409123e+10 9.53890528e+10\n",
      " 9.52232724e+10 9.53629307e+10 9.52683380e+10 9.54003025e+10\n",
      " 9.52313407e+10 9.52994646e+10 9.54119855e+10 9.53579752e+10\n",
      " 9.54237476e+10 9.53176361e+10 9.54118420e+10 9.53937745e+10\n",
      " 9.53825568e+10 9.53568175e+10 9.52857352e+10 9.53095710e+10\n",
      " 9.53973351e+10 9.53824924e+10 9.54284143e+10 9.55049881e+10\n",
      " 9.52226220e+10 9.53533163e+10 9.53415001e+10 9.53770333e+10\n",
      " 9.53976547e+10 9.53862990e+10 9.53658389e+10 9.54029978e+10\n",
      " 9.53561954e+10 9.53218415e+10 9.52821587e+10 9.54550271e+10\n",
      " 9.54394982e+10 9.52931968e+10 9.55496371e+10 9.53791674e+10\n",
      " 9.53435852e+10 9.53862533e+10 9.53733298e+10 9.53001594e+10\n",
      " 9.53819736e+10 9.53020513e+10 9.51914280e+10 9.53969667e+10\n",
      " 9.53813790e+10 9.54082717e+10 9.53329091e+10 9.52946963e+10\n",
      " 9.54270994e+10 9.53759735e+10 9.52841848e+10 9.51968639e+10\n",
      " 9.53764881e+10 9.53100834e+10 9.54562753e+10 9.51491876e+10\n",
      " 9.52979061e+10 9.54223396e+10 9.53869061e+10 9.52940918e+10\n",
      " 9.54766863e+10 9.52012279e+10 9.52734890e+10 9.52477440e+10\n",
      " 9.52423560e+10 9.52865901e+10 9.52993967e+10 9.55389927e+10\n",
      " 9.54575371e+10 9.54342255e+10 9.54695859e+10 9.53885886e+10\n",
      " 9.53698519e+10 9.53485393e+10 9.53647878e+10 9.54056911e+10\n",
      " 9.54272658e+10 9.54110115e+10 9.54299009e+10 9.52390646e+10\n",
      " 9.54268277e+10 9.53183117e+10 9.52532828e+10 9.54663842e+10\n",
      " 9.53441248e+10 9.53920029e+10 9.53705394e+10 9.53849764e+10\n",
      " 9.54802707e+10 9.53048730e+10 9.53462767e+10 9.54483196e+10\n",
      " 9.53061647e+10 9.51694456e+10 9.53608190e+10 9.53164145e+10\n",
      " 9.52918368e+10 9.52138296e+10 9.52147671e+10 9.53251660e+10\n",
      " 9.53418460e+10 9.53109401e+10 9.52487377e+10 9.52337909e+10\n",
      " 9.53067419e+10 9.54326170e+10 9.54771831e+10 9.52225022e+10\n",
      " 9.53857736e+10 9.53152850e+10 9.54699159e+10 9.53132520e+10\n",
      " 9.52941848e+10 9.53876812e+10 9.54013444e+10 9.52714182e+10\n",
      " 9.53300828e+10 9.52929408e+10 9.53354881e+10 9.52729079e+10\n",
      " 9.52897865e+10 9.54130541e+10 9.54310254e+10 9.53134185e+10\n",
      " 9.52307497e+10 9.54086565e+10 9.54618089e+10 9.54558112e+10\n",
      " 9.54387907e+10 9.53312639e+10 9.53264098e+10 9.54229864e+10\n",
      " 9.54010154e+10 9.53848805e+10 9.53520706e+10 9.53519559e+10\n",
      " 9.53412089e+10 9.54070823e+10 9.55655055e+10 9.53147279e+10\n",
      " 9.54214914e+10 9.53774141e+10 9.52938673e+10 9.53642635e+10\n",
      " 9.53520342e+10 9.53565376e+10 9.53797367e+10 9.53016559e+10\n",
      " 9.54178382e+10 9.53081682e+10 9.55342019e+10 9.54084340e+10\n",
      " 9.52747226e+10 9.52876618e+10 9.54607481e+10 9.52537058e+10\n",
      " 9.53499830e+10 9.53368734e+10 9.53224458e+10 9.54092311e+10\n",
      " 9.51884867e+10 9.54445562e+10 9.53676766e+10 9.53164702e+10\n",
      " 9.52950619e+10 9.52843957e+10 9.51431836e+10 9.55148430e+10\n",
      " 9.54330553e+10 9.54292750e+10 9.52980136e+10 9.54120438e+10\n",
      " 9.54075598e+10 9.52146223e+10 9.53806056e+10 9.53449686e+10\n",
      " 9.54123477e+10 9.53861982e+10 9.53799915e+10 9.53261392e+10\n",
      " 9.53339862e+10 9.53370581e+10 9.51307982e+10 9.53420817e+10\n",
      " 9.53589376e+10 9.53773999e+10 9.53763084e+10 9.53440485e+10\n",
      " 9.52446923e+10 9.53517213e+10 9.54186822e+10 9.53524232e+10\n",
      " 9.53824643e+10 9.54035205e+10 9.52545900e+10 9.54119904e+10\n",
      " 9.52983911e+10 9.54952707e+10 9.52736429e+10 9.52951722e+10\n",
      " 9.53213961e+10 9.53923950e+10 9.54121688e+10 9.54041976e+10\n",
      " 9.54624707e+10 9.52414979e+10 9.53265697e+10 9.52298724e+10\n",
      " 9.53772490e+10 9.53470722e+10 9.54248244e+10 9.52250555e+10\n",
      " 9.53595971e+10 9.54204129e+10 9.54232577e+10 9.52477141e+10\n",
      " 9.54516894e+10 9.54509764e+10 9.52639722e+10 9.53614276e+10\n",
      " 9.54756644e+10 9.53806061e+10 9.53572142e+10 9.53705754e+10\n",
      " 9.53140791e+10 9.52729393e+10 9.53238714e+10 9.53862945e+10\n",
      " 9.52464717e+10 9.54092038e+10 9.54310868e+10 9.52811804e+10\n",
      " 9.52564311e+10 9.53368220e+10 9.54154208e+10 9.52225852e+10\n",
      " 9.52987530e+10 9.54642008e+10 9.53245401e+10 9.54296759e+10\n",
      " 9.54332719e+10 9.54466564e+10 9.54217630e+10 9.55293880e+10\n",
      " 9.55721113e+10 9.52642070e+10 9.53656652e+10 9.52219626e+10\n",
      " 9.52618529e+10 9.53094430e+10 9.55089115e+10 9.52404899e+10\n",
      " 9.52719599e+10 9.52275962e+10 9.54660363e+10 9.53504693e+10\n",
      " 9.53691976e+10 9.52899902e+10 9.53050157e+10 9.53955116e+10\n",
      " 9.53080526e+10 9.53423207e+10 9.55101606e+10 9.52337635e+10\n",
      " 9.53896790e+10 9.54586351e+10 9.53000660e+10 9.53508024e+10\n",
      " 9.53288199e+10 9.53000004e+10 9.52107555e+10 9.53272684e+10\n",
      " 9.52309783e+10 9.54234452e+10 9.52610474e+10 9.53668189e+10\n",
      " 9.52859369e+10 9.53270195e+10]\n"
     ]
    }
   ],
   "source": [
    "# Use the model to make predictions on the test set\n",
    "predictions = model.predict(X_test)\n",
    "print(predictions)"
   ]
  }
 ],
 "metadata": {
  "kernelspec": {
   "display_name": "Python 3 (ipykernel)",
   "language": "python",
   "name": "python3"
  },
  "language_info": {
   "codemirror_mode": {
    "name": "ipython",
    "version": 3
   },
   "file_extension": ".py",
   "mimetype": "text/x-python",
   "name": "python",
   "nbconvert_exporter": "python",
   "pygments_lexer": "ipython3",
   "version": "3.11.6"
  }
 },
 "nbformat": 4,
 "nbformat_minor": 5
}
